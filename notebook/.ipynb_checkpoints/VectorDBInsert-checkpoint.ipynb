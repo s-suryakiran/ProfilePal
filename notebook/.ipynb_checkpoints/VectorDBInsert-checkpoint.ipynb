{
 "cells": [
  {
   "cell_type": "markdown",
   "id": "83a1edb7-0401-4c59-9640-95b0fa72fad9",
   "metadata": {},
   "source": [
    "# Import libraries"
   ]
  },
  {
   "cell_type": "code",
   "execution_count": 1,
   "id": "9206831b-95f3-4efb-96e4-babdd0f4ffdf",
   "metadata": {},
   "outputs": [],
   "source": [
    "from llama_index.core import SimpleDirectoryReader\n",
    "from sentence_transformers import SentenceTransformer\n",
    "from pinecone import Pinecone\n",
    "import PyPDF2\n",
    "from dotenv import load_dotenv\n",
    "import os"
   ]
  },
  {
   "cell_type": "code",
   "execution_count": 2,
   "id": "781c52fe-3254-47ae-89d1-2e37cba343e4",
   "metadata": {},
   "outputs": [
    {
     "data": {
      "text/plain": [
       "True"
      ]
     },
     "execution_count": 2,
     "metadata": {},
     "output_type": "execute_result"
    }
   ],
   "source": [
    "load_dotenv()"
   ]
  },
  {
   "cell_type": "markdown",
   "id": "cea5a718-1ee6-4b1b-81c9-b43b67bd39fc",
   "metadata": {},
   "source": [
    "# Initialize the directory reader and embedding model"
   ]
  },
  {
   "cell_type": "code",
   "execution_count": 3,
   "id": "35183d00-0b11-49ab-b916-e85e15c6f05e",
   "metadata": {},
   "outputs": [
    {
     "name": "stderr",
     "output_type": "stream",
     "text": [
      "/Users/suryakiransureshkumar/Documents/ProfilePal/venv/lib/python3.11/site-packages/huggingface_hub/file_download.py:1132: FutureWarning: `resume_download` is deprecated and will be removed in version 1.0.0. Downloads always resume when possible. If you want to force a new download, use `force_download=True`.\n",
      "  warnings.warn(\n"
     ]
    }
   ],
   "source": [
    "# Initialize the directory reader\n",
    "input_dir_path = \"../profile/\"\n",
    "loader = SimpleDirectoryReader(input_dir=input_dir_path, required_exts=[\".pdf\"], recursive=True)\n",
    "docs = loader.load_data()\n",
    "\n",
    "# Initialize the embedding model\n",
    "embed_model = SentenceTransformer('BAAI/bge-large-en-v1.5')"
   ]
  },
  {
   "cell_type": "markdown",
   "id": "c5ecc5d7-2c3d-4f48-8275-98869e9aeb31",
   "metadata": {},
   "source": [
    "# Connect to pinecone"
   ]
  },
  {
   "cell_type": "code",
   "execution_count": 4,
   "id": "0e9590dd-26c3-4d65-bfa2-466cac3a0334",
   "metadata": {},
   "outputs": [],
   "source": [
    "pinecone_api_key = os.getenv(\"PINECONE_API_KEY\")\n",
    "index_name = os.getenv(\"INDEX_NAME\")"
   ]
  },
  {
   "cell_type": "code",
   "execution_count": 5,
   "id": "5844a609-fc21-4e9f-b64a-1b9f15d77b2f",
   "metadata": {},
   "outputs": [],
   "source": [
    "pc = Pinecone(api_key=pinecone_api_key)\n",
    "index = pc.Index(index_name)"
   ]
  },
  {
   "cell_type": "code",
   "execution_count": 6,
   "id": "cecc144f-1ac1-44c3-987a-48a8d8ab7fe1",
   "metadata": {},
   "outputs": [
    {
     "data": {
      "text/plain": [
       "{'dimension': 1024,\n",
       " 'index_fullness': 0.0,\n",
       " 'namespaces': {'': {'vector_count': 8}},\n",
       " 'total_vector_count': 8}"
      ]
     },
     "execution_count": 6,
     "metadata": {},
     "output_type": "execute_result"
    }
   ],
   "source": [
    "index.describe_index_stats()"
   ]
  },
  {
   "cell_type": "markdown",
   "id": "5617dfb1-4143-40fd-8e81-0e7a0dce6ae3",
   "metadata": {},
   "source": [
    "# Generate embeddings and upsert them into Pinecone"
   ]
  },
  {
   "cell_type": "code",
   "execution_count": null,
   "id": "c6d58292-7d7e-4178-b4fd-f926837629b9",
   "metadata": {},
   "outputs": [],
   "source": [
    "for doc in docs:\n",
    "    # Generate embedding for the document text\n",
    "    embedding = embed_model.encode(doc.text)\n",
    "    \n",
    "    # Upsert the embedding into Pinecone\n",
    "    index.upsert([(doc.id_, embedding)])\n",
    "\n",
    "print(\"Embeddings have been upserted into the Pinecone index.\")"
   ]
  }
 ],
 "metadata": {
  "kernelspec": {
   "display_name": "profilepal",
   "language": "python",
   "name": "profilepal"
  },
  "language_info": {
   "codemirror_mode": {
    "name": "ipython",
    "version": 3
   },
   "file_extension": ".py",
   "mimetype": "text/x-python",
   "name": "python",
   "nbconvert_exporter": "python",
   "pygments_lexer": "ipython3",
   "version": "3.11.5"
  }
 },
 "nbformat": 4,
 "nbformat_minor": 5
}
